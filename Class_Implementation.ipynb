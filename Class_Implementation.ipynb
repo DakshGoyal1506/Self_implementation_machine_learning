{
 "cells": [
  {
   "cell_type": "code",
   "execution_count": 11,
   "id": "f81e22df",
   "metadata": {},
   "outputs": [],
   "source": [
    "import numpy as np"
   ]
  },
  {
   "cell_type": "code",
   "execution_count": 12,
   "id": "99915320",
   "metadata": {},
   "outputs": [],
   "source": [
    "def fit(x_train, y_train) :\n",
    "    \n",
    "    result = {}\n",
    "    class_values = set(y_train)\n",
    "    \n",
    "    for current_class in class_values :\n",
    "        result[current_class] = {}\n",
    "        result['total_data'] = len(y_train)\n",
    "        \n",
    "        current_class_rows = (y_train == current_class)\n",
    "        x_train_current = x_train[current_class_rows]\n",
    "        y_train_current = y_train[current_class_rows]\n",
    "        \n",
    "        num_features = x_train.shape[1]\n",
    "        result[current_class]['total_count'] = len(y_train_current)\n",
    "        \n",
    "        for j in range(1, num_features + 1) :\n",
    "            result[current_class][j] = {}\n",
    "            all_possible_values = set(x_train[:, j - 1])\n",
    "            \n",
    "            for current_value in all_possible_values :\n",
    "                result[current_class][j][current_value] = (x_train_current[:, j - 1] == current_value).sum()\n",
    "\n",
    "    return result\n",
    "        "
   ]
  },
  {
   "cell_type": "code",
   "execution_count": 13,
   "id": "b9b2a0e0",
   "metadata": {},
   "outputs": [],
   "source": [
    "def probability(dictionary, x, current_class):\n",
    "    \n",
    "    output = np.log(dictionary[current_class][\"total_count\"]) - np.log(dictionary[\"total_data\"])\n",
    "    num_features = len(dictionary[current_class].keys()) - 1;\n",
    "    \n",
    "    for j in range(1, num_features + 1):\n",
    "        \n",
    "        xj = x[j - 1]\n",
    "        \n",
    "        count_current_class_with_value_xj = dictionary[current_class][j][xj] + 1\n",
    "        count_current_class = dictionary[current_class][\"total_count\"] + len(dictionary[current_class][j].keys())\n",
    "        \n",
    "        current_xj_probablity = np.log(count_current_class_with_value_xj) - np.log(count_current_class)\n",
    "        \n",
    "        output = output + current_xj_probablity\n",
    "    \n",
    "    return output"
   ]
  },
  {
   "cell_type": "code",
   "execution_count": 14,
   "id": "81c23b36",
   "metadata": {},
   "outputs": [],
   "source": [
    "def predict_single_point(dictionary, x) :\n",
    "    classes = dictionary.keys()\n",
    "    best_p = -1000\n",
    "    best_class = -1\n",
    "    first_run = True\n",
    "    for current_class in classes :\n",
    "        if (current_class == \"total_data\"):\n",
    "            continue\n",
    "        \n",
    "        p_current_class = probability(dictionary, x, current_class)\n",
    "\n",
    "        if (first_run or p_current_class > best_p) :\n",
    "            best_p = p_current_class\n",
    "            best_class = current_class\n",
    "        first_run = False\n",
    "    \n",
    "    return best_class\n"
   ]
  },
  {
   "cell_type": "code",
   "execution_count": 15,
   "id": "22a5bbc8",
   "metadata": {},
   "outputs": [],
   "source": [
    "def predict(dictionary, x_test) :\n",
    "    y_pred = []\n",
    "\n",
    "    for x in x_test :\n",
    "        x_class = predict_single_point(dictionary, x)\n",
    "        y_pred.append(x_class)\n",
    "    return y_pred"
   ]
  },
  {
   "cell_type": "code",
   "execution_count": 16,
   "id": "6d027c5f",
   "metadata": {},
   "outputs": [],
   "source": [
    "def makeLabelled(column):\n",
    "    \n",
    "    mean = column.mean()\n",
    "    minimum = column.min()\n",
    "    maximum = column.max()\n",
    "    \n",
    "    first_limit = (minimum + mean) / 2\n",
    "    second_limit = mean\n",
    "    third_limit = (maximum + mean) / 2\n",
    "    \n",
    "    for i in range (0,len(column)):\n",
    "        if (column[i] < first_limit):\n",
    "            column[i] = 0\n",
    "        elif (column[i] < second_limit):\n",
    "            column[i] = 1\n",
    "        elif(column[i] < third_limit):\n",
    "            column[i] = 2\n",
    "        else:\n",
    "            column[i] = 3\n",
    "    return column"
   ]
  },
  {
   "cell_type": "code",
   "execution_count": 17,
   "id": "27f97f2f",
   "metadata": {},
   "outputs": [],
   "source": [
    "from sklearn import datasets\n",
    "\n",
    "iris = datasets.load_iris()\n",
    "x = iris.data\n",
    "y = iris.target"
   ]
  },
  {
   "cell_type": "code",
   "execution_count": 18,
   "id": "a8e45138",
   "metadata": {},
   "outputs": [],
   "source": [
    "for i in range(0, x.shape[-1]):\n",
    "    x[:, i] = makeLabelled(x[:, i])"
   ]
  },
  {
   "cell_type": "code",
   "execution_count": 19,
   "id": "b14d2a22",
   "metadata": {},
   "outputs": [],
   "source": [
    "from sklearn import model_selection\n",
    "x_train, x_test, y_train, y_test = model_selection.train_test_split(x, y, test_size=0.25, random_state=0)"
   ]
  },
  {
   "cell_type": "code",
   "execution_count": 20,
   "id": "046433d1",
   "metadata": {},
   "outputs": [],
   "source": [
    "dictionary = fit(x_train, y_train)"
   ]
  },
  {
   "cell_type": "code",
   "execution_count": 21,
   "id": "532600e2",
   "metadata": {},
   "outputs": [],
   "source": [
    "y_pred = predict(dictionary, x_test)"
   ]
  },
  {
   "cell_type": "code",
   "execution_count": 22,
   "id": "52989191",
   "metadata": {},
   "outputs": [
    {
     "name": "stdout",
     "output_type": "stream",
     "text": [
      "              precision    recall  f1-score   support\n",
      "\n",
      "           0       1.00      1.00      1.00        13\n",
      "           1       0.89      1.00      0.94        16\n",
      "           2       1.00      0.78      0.88         9\n",
      "\n",
      "    accuracy                           0.95        38\n",
      "   macro avg       0.96      0.93      0.94        38\n",
      "weighted avg       0.95      0.95      0.95        38\n",
      "\n",
      "[[13  0  0]\n",
      " [ 0 16  0]\n",
      " [ 0  2  7]]\n"
     ]
    }
   ],
   "source": [
    "from sklearn.metrics import classification_report, confusion_matrix\n",
    "print(classification_report(y_test,y_pred))\n",
    "print(confusion_matrix(y_test,y_pred))"
   ]
  },
  {
   "cell_type": "code",
   "execution_count": 28,
   "id": "4c544624",
   "metadata": {},
   "outputs": [
    {
     "name": "stdout",
     "output_type": "stream",
     "text": [
      "Classification Report\n",
      "              precision    recall  f1-score   support\n",
      "\n",
      "           0       1.00      1.00      1.00        13\n",
      "           1       1.00      1.00      1.00        16\n",
      "           2       1.00      1.00      1.00         9\n",
      "\n",
      "    accuracy                           1.00        38\n",
      "   macro avg       1.00      1.00      1.00        38\n",
      "weighted avg       1.00      1.00      1.00        38\n",
      "\n",
      "Confusion Matrix\n",
      "[[13  0  0]\n",
      " [ 0 16  0]\n",
      " [ 0  0  9]]\n",
      "\n",
      "Accuracy Score\n",
      "100.0%\n"
     ]
    }
   ],
   "source": [
    "from sklearn.naive_bayes import GaussianNB\n",
    "from sklearn.metrics import classification_report, confusion_matrix, accuracy_score\n",
    "\n",
    "iris = datasets.load_iris()\n",
    "x = iris.data\n",
    "y = iris.target\n",
    "\n",
    "x_train, x_test, y_train, y_test = model_selection.train_test_split(x, y, test_size=0.25, random_state=0)\n",
    "\n",
    "clf = GaussianNB()\n",
    "clf.fit(x_train, y_train)\n",
    "\n",
    "y_pred = clf.predict(x_test)\n",
    "\n",
    "print(\"Classification Report\")\n",
    "print(classification_report(y_test,y_pred))\n",
    "print(\"Confusion Matrix\")\n",
    "print(confusion_matrix(y_test,y_pred))\n",
    "print()\n",
    "print(\"Accuracy Score\")\n",
    "print(accuracy_score(y_test,y_pred) * 100, \"%\", sep=\"\")\n"
   ]
  },
  {
   "cell_type": "code",
   "execution_count": null,
   "id": "a4312e7b",
   "metadata": {},
   "outputs": [],
   "source": []
  }
 ],
 "metadata": {
  "kernelspec": {
   "display_name": "Python 3 (ipykernel)",
   "language": "python",
   "name": "python3"
  },
  "language_info": {
   "codemirror_mode": {
    "name": "ipython",
    "version": 3
   },
   "file_extension": ".py",
   "mimetype": "text/x-python",
   "name": "python",
   "nbconvert_exporter": "python",
   "pygments_lexer": "ipython3",
   "version": "3.10.11"
  }
 },
 "nbformat": 4,
 "nbformat_minor": 5
}
